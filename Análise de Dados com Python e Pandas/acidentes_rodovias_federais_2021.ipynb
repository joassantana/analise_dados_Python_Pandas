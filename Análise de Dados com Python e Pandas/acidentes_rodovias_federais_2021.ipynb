{
 "cells": [
  {
   "cell_type": "markdown",
   "metadata": {},
   "source": [
    "# Acidentes nas rodovias federais\n",
    "\n",
    "Nessa análise exploratória iremos analisar os dados dos acidentes nas rodovias federais disponibilizados pela [PRF](https://www.gov.br/prf/pt-br/acesso-a-informacao/dados-abertos/dados-abertos-acidentes) para o ano de **2021**."
   ]
  },
  {
   "cell_type": "markdown",
   "metadata": {},
   "source": [
    "# Analisando os dados\n",
    "\n",
    "Começamos importando as bibliotecas necessárias."
   ]
  },
  {
   "cell_type": "code",
   "execution_count": 1,
   "metadata": {},
   "outputs": [],
   "source": [
    "# importando biblioteca\n",
    "import pandas as pd\n",
    "from datetime import datetime\n",
    "import matplotlib.pyplot as plt\n",
    "import seaborn as sns\n",
    "%matplotlib inline"
   ]
  },
  {
   "cell_type": "markdown",
   "metadata": {},
   "source": [
    "Importando e visualizando os dados.\n",
    "\n",
    "Usaremos a base de dado que está agrupado por pessoas."
   ]
  },
  {
   "cell_type": "code",
   "execution_count": 2,
   "metadata": {},
   "outputs": [],
   "source": [
    "# modificando o separador de ',' para ';', \n",
    "# modificando o encoding para não gerar erros na leitura das linhas\n",
    "df = pd.read_csv('acidentes2021.csv', sep=';', encoding='ISO-8859-1')"
   ]
  },
  {
   "cell_type": "code",
   "execution_count": 3,
   "metadata": {},
   "outputs": [
    {
     "data": {
      "text/html": [
       "<div>\n",
       "<style scoped>\n",
       "    .dataframe tbody tr th:only-of-type {\n",
       "        vertical-align: middle;\n",
       "    }\n",
       "\n",
       "    .dataframe tbody tr th {\n",
       "        vertical-align: top;\n",
       "    }\n",
       "\n",
       "    .dataframe thead th {\n",
       "        text-align: right;\n",
       "    }\n",
       "</style>\n",
       "<table border=\"1\" class=\"dataframe\">\n",
       "  <thead>\n",
       "    <tr style=\"text-align: right;\">\n",
       "      <th></th>\n",
       "      <th>id</th>\n",
       "      <th>pesid</th>\n",
       "      <th>data_inversa</th>\n",
       "      <th>dia_semana</th>\n",
       "      <th>horario</th>\n",
       "      <th>uf</th>\n",
       "      <th>br</th>\n",
       "      <th>km</th>\n",
       "      <th>municipio</th>\n",
       "      <th>causa_acidente</th>\n",
       "      <th>...</th>\n",
       "      <th>sexo</th>\n",
       "      <th>ilesos</th>\n",
       "      <th>feridos_leves</th>\n",
       "      <th>feridos_graves</th>\n",
       "      <th>mortos</th>\n",
       "      <th>latitude</th>\n",
       "      <th>longitude</th>\n",
       "      <th>regional</th>\n",
       "      <th>delegacia</th>\n",
       "      <th>uop</th>\n",
       "    </tr>\n",
       "  </thead>\n",
       "  <tbody>\n",
       "    <tr>\n",
       "      <th>0</th>\n",
       "      <td>331730.0</td>\n",
       "      <td>738258.0</td>\n",
       "      <td>2021-01-01</td>\n",
       "      <td>sexta-feira</td>\n",
       "      <td>05:30:00</td>\n",
       "      <td>SP</td>\n",
       "      <td>116.0</td>\n",
       "      <td>453</td>\n",
       "      <td>REGISTRO</td>\n",
       "      <td>Reação tardia ou ineficiente do condutor</td>\n",
       "      <td>...</td>\n",
       "      <td>Masculino</td>\n",
       "      <td>0</td>\n",
       "      <td>1</td>\n",
       "      <td>0</td>\n",
       "      <td>0</td>\n",
       "      <td>-24,56168114</td>\n",
       "      <td>-47,86752174</td>\n",
       "      <td>SPRF-SP</td>\n",
       "      <td>DEL05-SP</td>\n",
       "      <td>UOP01-DEL05-SP</td>\n",
       "    </tr>\n",
       "    <tr>\n",
       "      <th>1</th>\n",
       "      <td>331804.0</td>\n",
       "      <td>738412.0</td>\n",
       "      <td>2021-01-01</td>\n",
       "      <td>sexta-feira</td>\n",
       "      <td>08:05:00</td>\n",
       "      <td>AM</td>\n",
       "      <td>174.0</td>\n",
       "      <td>937</td>\n",
       "      <td>MANAUS</td>\n",
       "      <td>Reação tardia ou ineficiente do condutor</td>\n",
       "      <td>...</td>\n",
       "      <td>Masculino</td>\n",
       "      <td>1</td>\n",
       "      <td>0</td>\n",
       "      <td>0</td>\n",
       "      <td>0</td>\n",
       "      <td>-2,508068</td>\n",
       "      <td>-60,036434</td>\n",
       "      <td>SPRF-AM</td>\n",
       "      <td>DEL01-AM</td>\n",
       "      <td>UOP01-DEL01-AM</td>\n",
       "    </tr>\n",
       "    <tr>\n",
       "      <th>2</th>\n",
       "      <td>331815.0</td>\n",
       "      <td>738692.0</td>\n",
       "      <td>2021-01-01</td>\n",
       "      <td>sexta-feira</td>\n",
       "      <td>10:10:00</td>\n",
       "      <td>CE</td>\n",
       "      <td>222.0</td>\n",
       "      <td>128,5</td>\n",
       "      <td>ITAPAJE</td>\n",
       "      <td>Velocidade Incompatível</td>\n",
       "      <td>...</td>\n",
       "      <td>Feminino</td>\n",
       "      <td>0</td>\n",
       "      <td>1</td>\n",
       "      <td>0</td>\n",
       "      <td>0</td>\n",
       "      <td>-3,707626</td>\n",
       "      <td>-39,623509</td>\n",
       "      <td>SPRF-CE</td>\n",
       "      <td>DEL04-CE</td>\n",
       "      <td>UOP03-DEL04-CE</td>\n",
       "    </tr>\n",
       "    <tr>\n",
       "      <th>3</th>\n",
       "      <td>331815.0</td>\n",
       "      <td>738689.0</td>\n",
       "      <td>2021-01-01</td>\n",
       "      <td>sexta-feira</td>\n",
       "      <td>10:10:00</td>\n",
       "      <td>CE</td>\n",
       "      <td>222.0</td>\n",
       "      <td>128,5</td>\n",
       "      <td>ITAPAJE</td>\n",
       "      <td>Velocidade Incompatível</td>\n",
       "      <td>...</td>\n",
       "      <td>Masculino</td>\n",
       "      <td>0</td>\n",
       "      <td>1</td>\n",
       "      <td>0</td>\n",
       "      <td>0</td>\n",
       "      <td>-3,707626</td>\n",
       "      <td>-39,623509</td>\n",
       "      <td>SPRF-CE</td>\n",
       "      <td>DEL04-CE</td>\n",
       "      <td>UOP03-DEL04-CE</td>\n",
       "    </tr>\n",
       "    <tr>\n",
       "      <th>4</th>\n",
       "      <td>331823.0</td>\n",
       "      <td>740272.0</td>\n",
       "      <td>2021-01-01</td>\n",
       "      <td>sexta-feira</td>\n",
       "      <td>12:30:00</td>\n",
       "      <td>RJ</td>\n",
       "      <td>493.0</td>\n",
       "      <td>18</td>\n",
       "      <td>MAGE</td>\n",
       "      <td>Ingestão de álcool e/ou substâncias psicoativa...</td>\n",
       "      <td>...</td>\n",
       "      <td>Masculino</td>\n",
       "      <td>1</td>\n",
       "      <td>0</td>\n",
       "      <td>0</td>\n",
       "      <td>0</td>\n",
       "      <td>-22,6687122</td>\n",
       "      <td>-43,01862696</td>\n",
       "      <td>SPRF-RJ</td>\n",
       "      <td>DEL02-RJ</td>\n",
       "      <td>UOP04-DEL02-RJ</td>\n",
       "    </tr>\n",
       "  </tbody>\n",
       "</table>\n",
       "<p>5 rows × 35 columns</p>\n",
       "</div>"
      ],
      "text/plain": [
       "         id     pesid data_inversa   dia_semana   horario  uf     br     km  \\\n",
       "0  331730.0  738258.0   2021-01-01  sexta-feira  05:30:00  SP  116.0    453   \n",
       "1  331804.0  738412.0   2021-01-01  sexta-feira  08:05:00  AM  174.0    937   \n",
       "2  331815.0  738692.0   2021-01-01  sexta-feira  10:10:00  CE  222.0  128,5   \n",
       "3  331815.0  738689.0   2021-01-01  sexta-feira  10:10:00  CE  222.0  128,5   \n",
       "4  331823.0  740272.0   2021-01-01  sexta-feira  12:30:00  RJ  493.0     18   \n",
       "\n",
       "  municipio                                     causa_acidente  ...  \\\n",
       "0  REGISTRO           Reação tardia ou ineficiente do condutor  ...   \n",
       "1    MANAUS           Reação tardia ou ineficiente do condutor  ...   \n",
       "2   ITAPAJE                            Velocidade Incompatível  ...   \n",
       "3   ITAPAJE                            Velocidade Incompatível  ...   \n",
       "4      MAGE  Ingestão de álcool e/ou substâncias psicoativa...  ...   \n",
       "\n",
       "        sexo ilesos feridos_leves feridos_graves mortos      latitude  \\\n",
       "0  Masculino      0             1              0      0  -24,56168114   \n",
       "1  Masculino      1             0              0      0     -2,508068   \n",
       "2   Feminino      0             1              0      0     -3,707626   \n",
       "3  Masculino      0             1              0      0     -3,707626   \n",
       "4  Masculino      1             0              0      0   -22,6687122   \n",
       "\n",
       "      longitude regional  delegacia             uop  \n",
       "0  -47,86752174  SPRF-SP   DEL05-SP  UOP01-DEL05-SP  \n",
       "1    -60,036434  SPRF-AM   DEL01-AM  UOP01-DEL01-AM  \n",
       "2    -39,623509  SPRF-CE   DEL04-CE  UOP03-DEL04-CE  \n",
       "3    -39,623509  SPRF-CE   DEL04-CE  UOP03-DEL04-CE  \n",
       "4  -43,01862696  SPRF-RJ   DEL02-RJ  UOP04-DEL02-RJ  \n",
       "\n",
       "[5 rows x 35 columns]"
      ]
     },
     "execution_count": 3,
     "metadata": {},
     "output_type": "execute_result"
    }
   ],
   "source": [
    "df.head() # as cinco primeiras linhas "
   ]
  },
  {
   "cell_type": "code",
   "execution_count": 4,
   "metadata": {},
   "outputs": [
    {
     "data": {
      "text/html": [
       "<div>\n",
       "<style scoped>\n",
       "    .dataframe tbody tr th:only-of-type {\n",
       "        vertical-align: middle;\n",
       "    }\n",
       "\n",
       "    .dataframe tbody tr th {\n",
       "        vertical-align: top;\n",
       "    }\n",
       "\n",
       "    .dataframe thead th {\n",
       "        text-align: right;\n",
       "    }\n",
       "</style>\n",
       "<table border=\"1\" class=\"dataframe\">\n",
       "  <thead>\n",
       "    <tr style=\"text-align: right;\">\n",
       "      <th></th>\n",
       "      <th>id</th>\n",
       "      <th>pesid</th>\n",
       "      <th>data_inversa</th>\n",
       "      <th>dia_semana</th>\n",
       "      <th>horario</th>\n",
       "      <th>uf</th>\n",
       "      <th>br</th>\n",
       "      <th>km</th>\n",
       "      <th>municipio</th>\n",
       "      <th>causa_acidente</th>\n",
       "      <th>...</th>\n",
       "      <th>sexo</th>\n",
       "      <th>ilesos</th>\n",
       "      <th>feridos_leves</th>\n",
       "      <th>feridos_graves</th>\n",
       "      <th>mortos</th>\n",
       "      <th>latitude</th>\n",
       "      <th>longitude</th>\n",
       "      <th>regional</th>\n",
       "      <th>delegacia</th>\n",
       "      <th>uop</th>\n",
       "    </tr>\n",
       "  </thead>\n",
       "  <tbody>\n",
       "    <tr>\n",
       "      <th>150920</th>\n",
       "      <td>465965.0</td>\n",
       "      <td>1008243.0</td>\n",
       "      <td>2021-11-07</td>\n",
       "      <td>domingo</td>\n",
       "      <td>20:15:00</td>\n",
       "      <td>SP</td>\n",
       "      <td>116.0</td>\n",
       "      <td>318</td>\n",
       "      <td>JUQUITIBA</td>\n",
       "      <td>Transitar no acostamento</td>\n",
       "      <td>...</td>\n",
       "      <td>Masculino</td>\n",
       "      <td>0</td>\n",
       "      <td>0</td>\n",
       "      <td>1</td>\n",
       "      <td>0</td>\n",
       "      <td>-23,92536222</td>\n",
       "      <td>-46,99376156</td>\n",
       "      <td>SPRF-SP</td>\n",
       "      <td>DEL04-SP</td>\n",
       "      <td>UOP01-DEL04-SP</td>\n",
       "    </tr>\n",
       "    <tr>\n",
       "      <th>150921</th>\n",
       "      <td>465993.0</td>\n",
       "      <td>1008346.0</td>\n",
       "      <td>2021-08-25</td>\n",
       "      <td>quarta-feira</td>\n",
       "      <td>15:10:00</td>\n",
       "      <td>RO</td>\n",
       "      <td>364.0</td>\n",
       "      <td>970</td>\n",
       "      <td>PORTO VELHO</td>\n",
       "      <td>Acessar a via sem observar a presença dos outr...</td>\n",
       "      <td>...</td>\n",
       "      <td>Masculino</td>\n",
       "      <td>1</td>\n",
       "      <td>0</td>\n",
       "      <td>0</td>\n",
       "      <td>0</td>\n",
       "      <td>-9,65616271</td>\n",
       "      <td>-65,72389011</td>\n",
       "      <td>SPRF-RO</td>\n",
       "      <td>DEL01-RO</td>\n",
       "      <td>UOP03-DEL01-RO</td>\n",
       "    </tr>\n",
       "    <tr>\n",
       "      <th>150922</th>\n",
       "      <td>465993.0</td>\n",
       "      <td>1008343.0</td>\n",
       "      <td>2021-08-25</td>\n",
       "      <td>quarta-feira</td>\n",
       "      <td>15:10:00</td>\n",
       "      <td>RO</td>\n",
       "      <td>364.0</td>\n",
       "      <td>970</td>\n",
       "      <td>PORTO VELHO</td>\n",
       "      <td>Acessar a via sem observar a presença dos outr...</td>\n",
       "      <td>...</td>\n",
       "      <td>Feminino</td>\n",
       "      <td>0</td>\n",
       "      <td>0</td>\n",
       "      <td>1</td>\n",
       "      <td>0</td>\n",
       "      <td>-9,65616271</td>\n",
       "      <td>-65,72389011</td>\n",
       "      <td>SPRF-RO</td>\n",
       "      <td>DEL01-RO</td>\n",
       "      <td>UOP03-DEL01-RO</td>\n",
       "    </tr>\n",
       "    <tr>\n",
       "      <th>150923</th>\n",
       "      <td>465993.0</td>\n",
       "      <td>1008344.0</td>\n",
       "      <td>2021-08-25</td>\n",
       "      <td>quarta-feira</td>\n",
       "      <td>15:10:00</td>\n",
       "      <td>RO</td>\n",
       "      <td>364.0</td>\n",
       "      <td>970</td>\n",
       "      <td>PORTO VELHO</td>\n",
       "      <td>Acessar a via sem observar a presença dos outr...</td>\n",
       "      <td>...</td>\n",
       "      <td>Feminino</td>\n",
       "      <td>0</td>\n",
       "      <td>0</td>\n",
       "      <td>1</td>\n",
       "      <td>0</td>\n",
       "      <td>-9,65616271</td>\n",
       "      <td>-65,72389011</td>\n",
       "      <td>SPRF-RO</td>\n",
       "      <td>DEL01-RO</td>\n",
       "      <td>UOP03-DEL01-RO</td>\n",
       "    </tr>\n",
       "    <tr>\n",
       "      <th>150924</th>\n",
       "      <td>465993.0</td>\n",
       "      <td>1008345.0</td>\n",
       "      <td>2021-08-25</td>\n",
       "      <td>quarta-feira</td>\n",
       "      <td>15:10:00</td>\n",
       "      <td>RO</td>\n",
       "      <td>364.0</td>\n",
       "      <td>970</td>\n",
       "      <td>PORTO VELHO</td>\n",
       "      <td>Acessar a via sem observar a presença dos outr...</td>\n",
       "      <td>...</td>\n",
       "      <td>Masculino</td>\n",
       "      <td>0</td>\n",
       "      <td>0</td>\n",
       "      <td>1</td>\n",
       "      <td>0</td>\n",
       "      <td>-9,65616271</td>\n",
       "      <td>-65,72389011</td>\n",
       "      <td>SPRF-RO</td>\n",
       "      <td>DEL01-RO</td>\n",
       "      <td>UOP03-DEL01-RO</td>\n",
       "    </tr>\n",
       "  </tbody>\n",
       "</table>\n",
       "<p>5 rows × 35 columns</p>\n",
       "</div>"
      ],
      "text/plain": [
       "              id      pesid data_inversa    dia_semana   horario  uf     br  \\\n",
       "150920  465965.0  1008243.0   2021-11-07       domingo  20:15:00  SP  116.0   \n",
       "150921  465993.0  1008346.0   2021-08-25  quarta-feira  15:10:00  RO  364.0   \n",
       "150922  465993.0  1008343.0   2021-08-25  quarta-feira  15:10:00  RO  364.0   \n",
       "150923  465993.0  1008344.0   2021-08-25  quarta-feira  15:10:00  RO  364.0   \n",
       "150924  465993.0  1008345.0   2021-08-25  quarta-feira  15:10:00  RO  364.0   \n",
       "\n",
       "         km    municipio                                     causa_acidente  \\\n",
       "150920  318    JUQUITIBA                           Transitar no acostamento   \n",
       "150921  970  PORTO VELHO  Acessar a via sem observar a presença dos outr...   \n",
       "150922  970  PORTO VELHO  Acessar a via sem observar a presença dos outr...   \n",
       "150923  970  PORTO VELHO  Acessar a via sem observar a presença dos outr...   \n",
       "150924  970  PORTO VELHO  Acessar a via sem observar a presença dos outr...   \n",
       "\n",
       "        ...       sexo ilesos feridos_leves feridos_graves mortos  \\\n",
       "150920  ...  Masculino      0             0              1      0   \n",
       "150921  ...  Masculino      1             0              0      0   \n",
       "150922  ...   Feminino      0             0              1      0   \n",
       "150923  ...   Feminino      0             0              1      0   \n",
       "150924  ...  Masculino      0             0              1      0   \n",
       "\n",
       "            latitude     longitude regional  delegacia             uop  \n",
       "150920  -23,92536222  -46,99376156  SPRF-SP   DEL04-SP  UOP01-DEL04-SP  \n",
       "150921   -9,65616271  -65,72389011  SPRF-RO   DEL01-RO  UOP03-DEL01-RO  \n",
       "150922   -9,65616271  -65,72389011  SPRF-RO   DEL01-RO  UOP03-DEL01-RO  \n",
       "150923   -9,65616271  -65,72389011  SPRF-RO   DEL01-RO  UOP03-DEL01-RO  \n",
       "150924   -9,65616271  -65,72389011  SPRF-RO   DEL01-RO  UOP03-DEL01-RO  \n",
       "\n",
       "[5 rows x 35 columns]"
      ]
     },
     "execution_count": 4,
     "metadata": {},
     "output_type": "execute_result"
    }
   ],
   "source": [
    "df.tail() # as cinco últimas linhas"
   ]
  },
  {
   "cell_type": "code",
   "execution_count": 5,
   "metadata": {},
   "outputs": [
    {
     "data": {
      "text/plain": [
       "(150925, 35)"
      ]
     },
     "execution_count": 5,
     "metadata": {},
     "output_type": "execute_result"
    }
   ],
   "source": [
    "# dimensão dos dados (linhas x colunas)\n",
    "df.shape"
   ]
  },
  {
   "cell_type": "code",
   "execution_count": 6,
   "metadata": {},
   "outputs": [
    {
     "name": "stdout",
     "output_type": "stream",
     "text": [
      "<class 'pandas.core.frame.DataFrame'>\n",
      "RangeIndex: 150925 entries, 0 to 150924\n",
      "Data columns (total 35 columns):\n",
      " #   Column                  Non-Null Count   Dtype  \n",
      "---  ------                  --------------   -----  \n",
      " 0   id                      150925 non-null  float64\n",
      " 1   pesid                   150924 non-null  float64\n",
      " 2   data_inversa            150925 non-null  object \n",
      " 3   dia_semana              150925 non-null  object \n",
      " 4   horario                 150925 non-null  object \n",
      " 5   uf                      150925 non-null  object \n",
      " 6   br                      150500 non-null  float64\n",
      " 7   km                      150500 non-null  object \n",
      " 8   municipio               150925 non-null  object \n",
      " 9   causa_acidente          150925 non-null  object \n",
      " 10  tipo_acidente           150925 non-null  object \n",
      " 11  classificacao_acidente  150925 non-null  object \n",
      " 12  fase_dia                150925 non-null  object \n",
      " 13  sentido_via             150925 non-null  object \n",
      " 14  condicao_metereologica  150925 non-null  object \n",
      " 15  tipo_pista              150925 non-null  object \n",
      " 16  tracado_via             150925 non-null  object \n",
      " 17  uso_solo                150925 non-null  object \n",
      " 18  id_veiculo              150925 non-null  int64  \n",
      " 19  tipo_veiculo            150925 non-null  object \n",
      " 20  marca                   142377 non-null  object \n",
      " 21  ano_fabricacao_veiculo  140397 non-null  float64\n",
      " 22  tipo_envolvido          150925 non-null  object \n",
      " 23  estado_fisico           150925 non-null  object \n",
      " 24  idade                   135653 non-null  float64\n",
      " 25  sexo                    150925 non-null  object \n",
      " 26  ilesos                  150925 non-null  int64  \n",
      " 27  feridos_leves           150925 non-null  int64  \n",
      " 28  feridos_graves          150925 non-null  int64  \n",
      " 29  mortos                  150925 non-null  int64  \n",
      " 30  latitude                150925 non-null  object \n",
      " 31  longitude               150925 non-null  object \n",
      " 32  regional                150925 non-null  object \n",
      " 33  delegacia               150868 non-null  object \n",
      " 34  uop                     150589 non-null  object \n",
      "dtypes: float64(5), int64(5), object(25)\n",
      "memory usage: 40.3+ MB\n"
     ]
    }
   ],
   "source": [
    "df.info() # informações sobre os dados"
   ]
  },
  {
   "cell_type": "code",
   "execution_count": 7,
   "metadata": {},
   "outputs": [
    {
     "data": {
      "text/html": [
       "<div>\n",
       "<style scoped>\n",
       "    .dataframe tbody tr th:only-of-type {\n",
       "        vertical-align: middle;\n",
       "    }\n",
       "\n",
       "    .dataframe tbody tr th {\n",
       "        vertical-align: top;\n",
       "    }\n",
       "\n",
       "    .dataframe thead th {\n",
       "        text-align: right;\n",
       "    }\n",
       "</style>\n",
       "<table border=\"1\" class=\"dataframe\">\n",
       "  <thead>\n",
       "    <tr style=\"text-align: right;\">\n",
       "      <th></th>\n",
       "      <th>idade</th>\n",
       "      <th>ilesos</th>\n",
       "      <th>feridos_leves</th>\n",
       "      <th>feridos_graves</th>\n",
       "      <th>mortos</th>\n",
       "    </tr>\n",
       "  </thead>\n",
       "  <tbody>\n",
       "    <tr>\n",
       "      <th>count</th>\n",
       "      <td>135653.000000</td>\n",
       "      <td>150925.000000</td>\n",
       "      <td>150925.000000</td>\n",
       "      <td>150925.000000</td>\n",
       "      <td>150925.000000</td>\n",
       "    </tr>\n",
       "    <tr>\n",
       "      <th>mean</th>\n",
       "      <td>39.606761</td>\n",
       "      <td>0.419771</td>\n",
       "      <td>0.358993</td>\n",
       "      <td>0.117045</td>\n",
       "      <td>0.035753</td>\n",
       "    </tr>\n",
       "    <tr>\n",
       "      <th>std</th>\n",
       "      <td>46.331935</td>\n",
       "      <td>0.493523</td>\n",
       "      <td>0.479707</td>\n",
       "      <td>0.321475</td>\n",
       "      <td>0.185674</td>\n",
       "    </tr>\n",
       "    <tr>\n",
       "      <th>min</th>\n",
       "      <td>0.000000</td>\n",
       "      <td>0.000000</td>\n",
       "      <td>0.000000</td>\n",
       "      <td>0.000000</td>\n",
       "      <td>0.000000</td>\n",
       "    </tr>\n",
       "    <tr>\n",
       "      <th>25%</th>\n",
       "      <td>27.000000</td>\n",
       "      <td>0.000000</td>\n",
       "      <td>0.000000</td>\n",
       "      <td>0.000000</td>\n",
       "      <td>0.000000</td>\n",
       "    </tr>\n",
       "    <tr>\n",
       "      <th>50%</th>\n",
       "      <td>37.000000</td>\n",
       "      <td>0.000000</td>\n",
       "      <td>0.000000</td>\n",
       "      <td>0.000000</td>\n",
       "      <td>0.000000</td>\n",
       "    </tr>\n",
       "    <tr>\n",
       "      <th>75%</th>\n",
       "      <td>48.000000</td>\n",
       "      <td>1.000000</td>\n",
       "      <td>1.000000</td>\n",
       "      <td>0.000000</td>\n",
       "      <td>0.000000</td>\n",
       "    </tr>\n",
       "    <tr>\n",
       "      <th>max</th>\n",
       "      <td>2020.000000</td>\n",
       "      <td>1.000000</td>\n",
       "      <td>1.000000</td>\n",
       "      <td>1.000000</td>\n",
       "      <td>1.000000</td>\n",
       "    </tr>\n",
       "  </tbody>\n",
       "</table>\n",
       "</div>"
      ],
      "text/plain": [
       "               idade         ilesos  feridos_leves  feridos_graves  \\\n",
       "count  135653.000000  150925.000000  150925.000000   150925.000000   \n",
       "mean       39.606761       0.419771       0.358993        0.117045   \n",
       "std        46.331935       0.493523       0.479707        0.321475   \n",
       "min         0.000000       0.000000       0.000000        0.000000   \n",
       "25%        27.000000       0.000000       0.000000        0.000000   \n",
       "50%        37.000000       0.000000       0.000000        0.000000   \n",
       "75%        48.000000       1.000000       1.000000        0.000000   \n",
       "max      2020.000000       1.000000       1.000000        1.000000   \n",
       "\n",
       "              mortos  \n",
       "count  150925.000000  \n",
       "mean        0.035753  \n",
       "std         0.185674  \n",
       "min         0.000000  \n",
       "25%         0.000000  \n",
       "50%         0.000000  \n",
       "75%         0.000000  \n",
       "max         1.000000  "
      ]
     },
     "execution_count": 7,
     "metadata": {},
     "output_type": "execute_result"
    }
   ],
   "source": [
    "# um rápido resumo das estatísticas descritivas de algumas variáveis\n",
    "df.describe()[['idade', 'ilesos', 'feridos_leves', 'feridos_graves','mortos']]"
   ]
  },
  {
   "cell_type": "code",
   "execution_count": 8,
   "metadata": {},
   "outputs": [
    {
     "data": {
      "text/plain": [
       "id                            0\n",
       "pesid                         1\n",
       "data_inversa                  0\n",
       "dia_semana                    0\n",
       "horario                       0\n",
       "uf                            0\n",
       "br                          425\n",
       "km                          425\n",
       "municipio                     0\n",
       "causa_acidente                0\n",
       "tipo_acidente                 0\n",
       "classificacao_acidente        0\n",
       "fase_dia                      0\n",
       "sentido_via                   0\n",
       "condicao_metereologica        0\n",
       "tipo_pista                    0\n",
       "tracado_via                   0\n",
       "uso_solo                      0\n",
       "id_veiculo                    0\n",
       "tipo_veiculo                  0\n",
       "marca                      8548\n",
       "ano_fabricacao_veiculo    10528\n",
       "tipo_envolvido                0\n",
       "estado_fisico                 0\n",
       "idade                     15272\n",
       "sexo                          0\n",
       "ilesos                        0\n",
       "feridos_leves                 0\n",
       "feridos_graves                0\n",
       "mortos                        0\n",
       "latitude                      0\n",
       "longitude                     0\n",
       "regional                      0\n",
       "delegacia                    57\n",
       "uop                         336\n",
       "dtype: int64"
      ]
     },
     "execution_count": 8,
     "metadata": {},
     "output_type": "execute_result"
    }
   ],
   "source": [
    "# verificando os valores faltantes em df_pessoas\n",
    "df.isnull().sum()"
   ]
  },
  {
   "cell_type": "code",
   "execution_count": 9,
   "metadata": {},
   "outputs": [],
   "source": [
    "# como a base é relativamente grande, vamos excluir esses valores faltantes\n",
    "df.dropna(inplace=True)"
   ]
  },
  {
   "cell_type": "code",
   "execution_count": 10,
   "metadata": {},
   "outputs": [
    {
     "data": {
      "text/plain": [
       "id                        0\n",
       "pesid                     0\n",
       "data_inversa              0\n",
       "dia_semana                0\n",
       "horario                   0\n",
       "uf                        0\n",
       "br                        0\n",
       "km                        0\n",
       "municipio                 0\n",
       "causa_acidente            0\n",
       "tipo_acidente             0\n",
       "classificacao_acidente    0\n",
       "fase_dia                  0\n",
       "sentido_via               0\n",
       "condicao_metereologica    0\n",
       "tipo_pista                0\n",
       "tracado_via               0\n",
       "uso_solo                  0\n",
       "id_veiculo                0\n",
       "tipo_veiculo              0\n",
       "marca                     0\n",
       "ano_fabricacao_veiculo    0\n",
       "tipo_envolvido            0\n",
       "estado_fisico             0\n",
       "idade                     0\n",
       "sexo                      0\n",
       "ilesos                    0\n",
       "feridos_leves             0\n",
       "feridos_graves            0\n",
       "mortos                    0\n",
       "latitude                  0\n",
       "longitude                 0\n",
       "regional                  0\n",
       "delegacia                 0\n",
       "uop                       0\n",
       "dtype: int64"
      ]
     },
     "execution_count": 10,
     "metadata": {},
     "output_type": "execute_result"
    }
   ],
   "source": [
    "df.isnull().sum()"
   ]
  },
  {
   "cell_type": "code",
   "execution_count": 11,
   "metadata": {},
   "outputs": [
    {
     "data": {
      "text/plain": [
       "(130219, 35)"
      ]
     },
     "execution_count": 11,
     "metadata": {},
     "output_type": "execute_result"
    }
   ],
   "source": [
    "df.shape"
   ]
  },
  {
   "cell_type": "markdown",
   "metadata": {},
   "source": [
    "## Analisando o gênero"
   ]
  },
  {
   "cell_type": "code",
   "execution_count": 12,
   "metadata": {},
   "outputs": [
    {
     "data": {
      "text/plain": [
       "array(['Masculino', 'Feminino', 'Ignorado'], dtype=object)"
      ]
     },
     "execution_count": 12,
     "metadata": {},
     "output_type": "execute_result"
    }
   ],
   "source": [
    "# gêneros\n",
    "df['sexo'].unique()"
   ]
  },
  {
   "cell_type": "code",
   "execution_count": 13,
   "metadata": {},
   "outputs": [
    {
     "data": {
      "text/plain": [
       "Masculino    99913\n",
       "Feminino     30285\n",
       "Ignorado        21\n",
       "Name: sexo, dtype: int64"
      ]
     },
     "execution_count": 13,
     "metadata": {},
     "output_type": "execute_result"
    }
   ],
   "source": [
    "# quantidade de pessoas por gênero\n",
    "sexo = df['sexo'].value_counts()\n",
    "sexo"
   ]
  },
  {
   "cell_type": "code",
   "execution_count": 14,
   "metadata": {},
   "outputs": [
    {
     "name": "stdout",
     "output_type": "stream",
     "text": [
      "Homens: 99913 (76.74%)\n",
      "Mulheres: 30285 (23.26%)\n"
     ]
    }
   ],
   "source": [
    "# calculando o percentual\n",
    "masculino_percentual = sexo[0]/(sexo[0] + sexo[1])*100\n",
    "feminino_percentual = sexo[1]/(sexo[0] + sexo[1])*100\n",
    "print('Homens: {} ({:.2f}%)'.format(sexo[0],masculino_percentual))\n",
    "print('Mulheres: {} ({:.2f}%)'.format(sexo[1],feminino_percentual))"
   ]
  },
  {
   "cell_type": "code",
   "execution_count": 15,
   "metadata": {},
   "outputs": [
    {
     "data": {
      "image/png": "[encoded data removed]",
      "text/plain": [
       "<Figure size 504x504 with 1 Axes>"
      ]
     },
     "metadata": {},
     "output_type": "display_data"
    }
   ],
   "source": [
    "# gráfico de pizza utilizando o matplotlib.pyplot\n",
    "df['sexo'].value_counts().plot.pie(figsize=(7,7),\n",
    "                                    labels=['MASCULINO','FEMININO','IGNORADO'],\n",
    "                                    colors=['blue','plum'])\n",
    "plt.title('Vítimas por gênero', fontsize=21);"
   ]
  },
  {
   "cell_type": "markdown",
   "metadata": {},
   "source": [
    "## Analisando a idade das vítimas"
   ]
  },
  {
   "cell_type": "markdown",
   "metadata": {},
   "source": [
    "Quero gerar um histograma com as idades, separando em masculino e feminino. Mas quando realizamos a estatística descritiava acima observamos que o valor máximo para a variável idade foi de 2020, o que demonstra um erro na inserção nos dados. Vamos gerar um gráfico do tipo **box-plot** para verificar melhor os valores *outliers*."
   ]
  },
  {
   "cell_type": "code",
   "execution_count": 16,
   "metadata": {},
   "outputs": [
    {
     "data": {
      "image/png": "[encoded data removed]",
      "text/plain": [
       "<Figure size 936x360 with 1 Axes>"
      ]
     },
     "metadata": {
      "needs_background": "light"
     },
     "output_type": "display_data"
    }
   ],
   "source": [
    "fig = plt.figure(figsize=(13,5))\n",
    "plt.title('Gráfico de box-plot para idade', fontsize=21)\n",
    "sns.boxplot(x='idade', data=df); # agora utilizamos a biblioteca seaborn"
   ]
  },
  {
   "cell_type": "markdown",
   "metadata": {},
   "source": [
    "Como observado, há vários *outliers* que representam erros na hora de inserir a idade do indivíduo. Vamos fazer um filtro para as análises posteriores."
   ]
  },
  {
   "cell_type": "code",
   "execution_count": 17,
   "metadata": {},
   "outputs": [
    {
     "data": {
      "text/plain": [
       "158"
      ]
     },
     "execution_count": 17,
     "metadata": {},
     "output_type": "execute_result"
    }
   ],
   "source": [
    "# número de pessoas acima de 120 anos\n",
    "(df['idade']>=120).sum() "
   ]
  },
  {
   "cell_type": "code",
   "execution_count": 18,
   "metadata": {},
   "outputs": [],
   "source": [
    "# filtro selecionando apenas a idade abaixo de 120 anos\n",
    "# dividindo entre masculino e feminino\n",
    "masculino = df[(df['sexo'] == 'Masculino') & (df['idade'] <= 120)][['idade']]\n",
    "feminino = df[(df['sexo'] == 'Feminino') & (df['idade'] <= 120)][['idade']]"
   ]
  },
  {
   "cell_type": "code",
   "execution_count": 19,
   "metadata": {},
   "outputs": [
    {
     "data": {
      "image/png": "[encoded data removed]",
      "text/plain": [
       "<Figure size 1080x504 with 1 Axes>"
      ]
     },
     "metadata": {},
     "output_type": "display_data"
    }
   ],
   "source": [
    "# gerando um histograma simples com o matplotlib\n",
    "plt.style.use('ggplot') # utilizando o estilo ggplot\n",
    "plt.figure(figsize=(15,7))\n",
    "plt.hist(masculino['idade'],bins=40, label='MASCULINO')\n",
    "plt.hist(feminino['idade'], bins=40, label='FEMININO')\n",
    "plt.title('Distribuição das idades por gênero ',fontsize=21)\n",
    "plt.legend();"
   ]
  },
  {
   "cell_type": "code",
   "execution_count": 20,
   "metadata": {},
   "outputs": [
    {
     "name": "stdout",
     "output_type": "stream",
     "text": [
      "Média da idade das vítimas masculinas: 39.14\n",
      "Média da idade das vítimas femininas: 35.55\n"
     ]
    }
   ],
   "source": [
    "# calculando a média de idade\n",
    "print(f'Média da idade das vítimas masculinas: {masculino.idade.mean():.2f}')\n",
    "print(f'Média da idade das vítimas femininas: {feminino.idade.mean():.2f}')"
   ]
  },
  {
   "cell_type": "markdown",
   "metadata": {},
   "source": [
    "## Classificação das vítimas\n",
    "\n",
    "Agora veremos o tipo da vítima envolvido no acidente."
   ]
  },
  {
   "cell_type": "code",
   "execution_count": 21,
   "metadata": {},
   "outputs": [
    {
     "data": {
      "text/plain": [
       "array(['Condutor', 'Passageiro', 'Pedestre', 'Cavaleiro'], dtype=object)"
      ]
     },
     "execution_count": 21,
     "metadata": {},
     "output_type": "execute_result"
    }
   ],
   "source": [
    "# tipos envolvidos\n",
    "df['tipo_envolvido'].unique()"
   ]
  },
  {
   "cell_type": "code",
   "execution_count": 22,
   "metadata": {},
   "outputs": [
    {
     "data": {
      "text/html": [
       "<div>\n",
       "<style scoped>\n",
       "    .dataframe tbody tr th:only-of-type {\n",
       "        vertical-align: middle;\n",
       "    }\n",
       "\n",
       "    .dataframe tbody tr th {\n",
       "        vertical-align: top;\n",
       "    }\n",
       "\n",
       "    .dataframe thead th {\n",
       "        text-align: right;\n",
       "    }\n",
       "</style>\n",
       "<table border=\"1\" class=\"dataframe\">\n",
       "  <thead>\n",
       "    <tr style=\"text-align: right;\">\n",
       "      <th></th>\n",
       "      <th>tipo_envolvido</th>\n",
       "    </tr>\n",
       "  </thead>\n",
       "  <tbody>\n",
       "    <tr>\n",
       "      <th>Condutor</th>\n",
       "      <td>93730</td>\n",
       "    </tr>\n",
       "    <tr>\n",
       "      <th>Passageiro</th>\n",
       "      <td>34512</td>\n",
       "    </tr>\n",
       "    <tr>\n",
       "      <th>Pedestre</th>\n",
       "      <td>1955</td>\n",
       "    </tr>\n",
       "    <tr>\n",
       "      <th>Cavaleiro</th>\n",
       "      <td>22</td>\n",
       "    </tr>\n",
       "  </tbody>\n",
       "</table>\n",
       "</div>"
      ],
      "text/plain": [
       "            tipo_envolvido\n",
       "Condutor             93730\n",
       "Passageiro           34512\n",
       "Pedestre              1955\n",
       "Cavaleiro               22"
      ]
     },
     "execution_count": 22,
     "metadata": {},
     "output_type": "execute_result"
    }
   ],
   "source": [
    "tipo_envolvido = pd.DataFrame(df['tipo_envolvido'].value_counts())\n",
    "tipo_envolvido"
   ]
  },
  {
   "cell_type": "code",
   "execution_count": 23,
   "metadata": {},
   "outputs": [
    {
     "data": {
      "text/plain": [
       "Condutor      71.978744\n",
       "Passageiro    26.503045\n",
       "Pedestre       1.501317\n",
       "Cavaleiro      0.016895\n",
       "Name: tipo_envolvido, dtype: float64"
      ]
     },
     "execution_count": 23,
     "metadata": {},
     "output_type": "execute_result"
    }
   ],
   "source": [
    "# calculando o percentual de cada tipo\n",
    "df['tipo_envolvido'].value_counts()/df['tipo_envolvido'].value_counts().sum()*100"
   ]
  },
  {
   "cell_type": "code",
   "execution_count": 24,
   "metadata": {},
   "outputs": [
    {
     "data": {
      "image/png": "[encoded data removed]",
      "text/plain": [
       "<Figure size 936x504 with 1 Axes>"
      ]
     },
     "metadata": {},
     "output_type": "display_data"
    }
   ],
   "source": [
    "# gerando o gráfico de barras com cada tipo\n",
    "tipo_envolvido.plot.bar(figsize=(13,7),rot=0)\n",
    "plt.title('Classificação das vítimas',fontsize=21);"
   ]
  },
  {
   "cell_type": "markdown",
   "metadata": {},
   "source": [
    "## Veículos das vítimas"
   ]
  },
  {
   "cell_type": "code",
   "execution_count": 25,
   "metadata": {
    "scrolled": false
   },
   "outputs": [
    {
     "data": {
      "image/png": "[encoded data removed]",
      "text/plain": [
       "<Figure size 936x504 with 1 Axes>"
      ]
     },
     "metadata": {},
     "output_type": "display_data"
    }
   ],
   "source": [
    "fig = plt.figure(figsize=(13,7))\n",
    "df.tipo_veiculo.value_counts().plot.bar()\n",
    "plt.title('Tipo do veículo',fontsize=21);"
   ]
  },
  {
   "cell_type": "markdown",
   "metadata": {},
   "source": [
    "## Tipo do acidente"
   ]
  },
  {
   "cell_type": "code",
   "execution_count": 26,
   "metadata": {},
   "outputs": [
    {
     "data": {
      "text/plain": [
       "array(['Tombamento', 'Colisão traseira', 'Colisão lateral',\n",
       "       'Colisão frontal', 'Saída de leito carroçável', 'Incêndio',\n",
       "       'Colisão transversal', 'Atropelamento de Pedestre',\n",
       "       'Colisão lateral mesmo sentido', 'Engavetamento', 'Capotamento',\n",
       "       'Colisão com objeto', 'Derramamento de carga',\n",
       "       'Colisão lateral sentido oposto', 'Queda de ocupante de veículo',\n",
       "       'Eventos atípicos', 'Atropelamento de Animal'], dtype=object)"
      ]
     },
     "execution_count": 26,
     "metadata": {},
     "output_type": "execute_result"
    }
   ],
   "source": [
    "df['tipo_acidente'].unique()"
   ]
  },
  {
   "cell_type": "code",
   "execution_count": 27,
   "metadata": {},
   "outputs": [
    {
     "data": {
      "text/html": [
       "<div>\n",
       "<style scoped>\n",
       "    .dataframe tbody tr th:only-of-type {\n",
       "        vertical-align: middle;\n",
       "    }\n",
       "\n",
       "    .dataframe tbody tr th {\n",
       "        vertical-align: top;\n",
       "    }\n",
       "\n",
       "    .dataframe thead th {\n",
       "        text-align: right;\n",
       "    }\n",
       "</style>\n",
       "<table border=\"1\" class=\"dataframe\">\n",
       "  <thead>\n",
       "    <tr style=\"text-align: right;\">\n",
       "      <th></th>\n",
       "      <th>tipo_acidente</th>\n",
       "    </tr>\n",
       "  </thead>\n",
       "  <tbody>\n",
       "    <tr>\n",
       "      <th>Colisão traseira</th>\n",
       "      <td>30461</td>\n",
       "    </tr>\n",
       "    <tr>\n",
       "      <th>Colisão transversal</th>\n",
       "      <td>18321</td>\n",
       "    </tr>\n",
       "    <tr>\n",
       "      <th>Saída de leito carroçável</th>\n",
       "      <td>17055</td>\n",
       "    </tr>\n",
       "    <tr>\n",
       "      <th>Colisão lateral mesmo sentido</th>\n",
       "      <td>12582</td>\n",
       "    </tr>\n",
       "    <tr>\n",
       "      <th>Colisão frontal</th>\n",
       "      <td>12358</td>\n",
       "    </tr>\n",
       "    <tr>\n",
       "      <th>Colisão com objeto</th>\n",
       "      <td>7490</td>\n",
       "    </tr>\n",
       "    <tr>\n",
       "      <th>Tombamento</th>\n",
       "      <td>7364</td>\n",
       "    </tr>\n",
       "    <tr>\n",
       "      <th>Engavetamento</th>\n",
       "      <td>4702</td>\n",
       "    </tr>\n",
       "    <tr>\n",
       "      <th>Atropelamento de Pedestre</th>\n",
       "      <td>4468</td>\n",
       "    </tr>\n",
       "    <tr>\n",
       "      <th>Colisão lateral sentido oposto</th>\n",
       "      <td>4369</td>\n",
       "    </tr>\n",
       "    <tr>\n",
       "      <th>Capotamento</th>\n",
       "      <td>3094</td>\n",
       "    </tr>\n",
       "    <tr>\n",
       "      <th>Queda de ocupante de veículo</th>\n",
       "      <td>2882</td>\n",
       "    </tr>\n",
       "    <tr>\n",
       "      <th>Colisão lateral</th>\n",
       "      <td>1592</td>\n",
       "    </tr>\n",
       "    <tr>\n",
       "      <th>Atropelamento de Animal</th>\n",
       "      <td>1537</td>\n",
       "    </tr>\n",
       "    <tr>\n",
       "      <th>Incêndio</th>\n",
       "      <td>1282</td>\n",
       "    </tr>\n",
       "    <tr>\n",
       "      <th>Eventos atípicos</th>\n",
       "      <td>413</td>\n",
       "    </tr>\n",
       "    <tr>\n",
       "      <th>Derramamento de carga</th>\n",
       "      <td>249</td>\n",
       "    </tr>\n",
       "  </tbody>\n",
       "</table>\n",
       "</div>"
      ],
      "text/plain": [
       "                                tipo_acidente\n",
       "Colisão traseira                        30461\n",
       "Colisão transversal                     18321\n",
       "Saída de leito carroçável               17055\n",
       "Colisão lateral mesmo sentido           12582\n",
       "Colisão frontal                         12358\n",
       "Colisão com objeto                       7490\n",
       "Tombamento                               7364\n",
       "Engavetamento                            4702\n",
       "Atropelamento de Pedestre                4468\n",
       "Colisão lateral sentido oposto           4369\n",
       "Capotamento                              3094\n",
       "Queda de ocupante de veículo             2882\n",
       "Colisão lateral                          1592\n",
       "Atropelamento de Animal                  1537\n",
       "Incêndio                                 1282\n",
       "Eventos atípicos                          413\n",
       "Derramamento de carga                     249"
      ]
     },
     "execution_count": 27,
     "metadata": {},
     "output_type": "execute_result"
    }
   ],
   "source": [
    "tipo_acidente = pd.DataFrame(df.tipo_acidente.value_counts())\n",
    "tipo_acidente"
   ]
  },
  {
   "cell_type": "markdown",
   "metadata": {},
   "source": [
    "## Acidentes com vítimas fatais\n",
    "\n",
    "Vamos fazer uma análise filtrando apenas os acidentes onde teve vítimas fatais."
   ]
  },
  {
   "cell_type": "code",
   "execution_count": 28,
   "metadata": {},
   "outputs": [],
   "source": [
    "# selecionando apenas os acidentes com vítimas fatais\n",
    "acidentes_fatais = df.loc[df['classificacao_acidente']=='Com Vítimas Fatais']"
   ]
  },
  {
   "cell_type": "code",
   "execution_count": 29,
   "metadata": {},
   "outputs": [
    {
     "data": {
      "text/html": [
       "<div>\n",
       "<style scoped>\n",
       "    .dataframe tbody tr th:only-of-type {\n",
       "        vertical-align: middle;\n",
       "    }\n",
       "\n",
       "    .dataframe tbody tr th {\n",
       "        vertical-align: top;\n",
       "    }\n",
       "\n",
       "    .dataframe thead th {\n",
       "        text-align: right;\n",
       "    }\n",
       "</style>\n",
       "<table border=\"1\" class=\"dataframe\">\n",
       "  <thead>\n",
       "    <tr style=\"text-align: right;\">\n",
       "      <th></th>\n",
       "      <th>id</th>\n",
       "      <th>pesid</th>\n",
       "      <th>data_inversa</th>\n",
       "      <th>dia_semana</th>\n",
       "      <th>horario</th>\n",
       "      <th>uf</th>\n",
       "      <th>br</th>\n",
       "      <th>km</th>\n",
       "      <th>municipio</th>\n",
       "      <th>causa_acidente</th>\n",
       "      <th>...</th>\n",
       "      <th>sexo</th>\n",
       "      <th>ilesos</th>\n",
       "      <th>feridos_leves</th>\n",
       "      <th>feridos_graves</th>\n",
       "      <th>mortos</th>\n",
       "      <th>latitude</th>\n",
       "      <th>longitude</th>\n",
       "      <th>regional</th>\n",
       "      <th>delegacia</th>\n",
       "      <th>uop</th>\n",
       "    </tr>\n",
       "  </thead>\n",
       "  <tbody>\n",
       "    <tr>\n",
       "      <th>9</th>\n",
       "      <td>331864.0</td>\n",
       "      <td>738673.0</td>\n",
       "      <td>2021-01-01</td>\n",
       "      <td>sexta-feira</td>\n",
       "      <td>17:10:00</td>\n",
       "      <td>SC</td>\n",
       "      <td>470.0</td>\n",
       "      <td>79,1</td>\n",
       "      <td>INDAIAL</td>\n",
       "      <td>Transitar na contramão</td>\n",
       "      <td>...</td>\n",
       "      <td>Feminino</td>\n",
       "      <td>0</td>\n",
       "      <td>1</td>\n",
       "      <td>0</td>\n",
       "      <td>0</td>\n",
       "      <td>-26,951565</td>\n",
       "      <td>-49,306534</td>\n",
       "      <td>SPRF-SC</td>\n",
       "      <td>DEL04-SC</td>\n",
       "      <td>UOP01-DEL04-SC</td>\n",
       "    </tr>\n",
       "    <tr>\n",
       "      <th>10</th>\n",
       "      <td>331864.0</td>\n",
       "      <td>738672.0</td>\n",
       "      <td>2021-01-01</td>\n",
       "      <td>sexta-feira</td>\n",
       "      <td>17:10:00</td>\n",
       "      <td>SC</td>\n",
       "      <td>470.0</td>\n",
       "      <td>79,1</td>\n",
       "      <td>INDAIAL</td>\n",
       "      <td>Transitar na contramão</td>\n",
       "      <td>...</td>\n",
       "      <td>Masculino</td>\n",
       "      <td>0</td>\n",
       "      <td>1</td>\n",
       "      <td>0</td>\n",
       "      <td>0</td>\n",
       "      <td>-26,951565</td>\n",
       "      <td>-49,306534</td>\n",
       "      <td>SPRF-SC</td>\n",
       "      <td>DEL04-SC</td>\n",
       "      <td>UOP01-DEL04-SC</td>\n",
       "    </tr>\n",
       "    <tr>\n",
       "      <th>15</th>\n",
       "      <td>331920.0</td>\n",
       "      <td>738637.0</td>\n",
       "      <td>2021-01-01</td>\n",
       "      <td>sexta-feira</td>\n",
       "      <td>20:40:00</td>\n",
       "      <td>PR</td>\n",
       "      <td>116.0</td>\n",
       "      <td>59</td>\n",
       "      <td>CAMPINA GRANDE DO SUL</td>\n",
       "      <td>Entrada inopinada do pedestre</td>\n",
       "      <td>...</td>\n",
       "      <td>Masculino</td>\n",
       "      <td>1</td>\n",
       "      <td>0</td>\n",
       "      <td>0</td>\n",
       "      <td>0</td>\n",
       "      <td>-25,30335724</td>\n",
       "      <td>-48,94378885</td>\n",
       "      <td>SPRF-PR</td>\n",
       "      <td>DEL01-PR</td>\n",
       "      <td>UOP02-DEL01-PR</td>\n",
       "    </tr>\n",
       "    <tr>\n",
       "      <th>28</th>\n",
       "      <td>331990.0</td>\n",
       "      <td>739047.0</td>\n",
       "      <td>2021-01-02</td>\n",
       "      <td>sábado</td>\n",
       "      <td>09:41:00</td>\n",
       "      <td>MG</td>\n",
       "      <td>381.0</td>\n",
       "      <td>531,5</td>\n",
       "      <td>ITATIAIUCU</td>\n",
       "      <td>Condutor Dormindo</td>\n",
       "      <td>...</td>\n",
       "      <td>Masculino</td>\n",
       "      <td>0</td>\n",
       "      <td>1</td>\n",
       "      <td>0</td>\n",
       "      <td>0</td>\n",
       "      <td>-20,18182886</td>\n",
       "      <td>-44,37895835</td>\n",
       "      <td>SPRF-MG</td>\n",
       "      <td>DEL04-MG</td>\n",
       "      <td>UOP03-DEL04-MG</td>\n",
       "    </tr>\n",
       "    <tr>\n",
       "      <th>29</th>\n",
       "      <td>331990.0</td>\n",
       "      <td>738864.0</td>\n",
       "      <td>2021-01-02</td>\n",
       "      <td>sábado</td>\n",
       "      <td>09:41:00</td>\n",
       "      <td>MG</td>\n",
       "      <td>381.0</td>\n",
       "      <td>531,5</td>\n",
       "      <td>ITATIAIUCU</td>\n",
       "      <td>Condutor Dormindo</td>\n",
       "      <td>...</td>\n",
       "      <td>Masculino</td>\n",
       "      <td>0</td>\n",
       "      <td>0</td>\n",
       "      <td>0</td>\n",
       "      <td>1</td>\n",
       "      <td>-20,18182886</td>\n",
       "      <td>-44,37895835</td>\n",
       "      <td>SPRF-MG</td>\n",
       "      <td>DEL04-MG</td>\n",
       "      <td>UOP03-DEL04-MG</td>\n",
       "    </tr>\n",
       "  </tbody>\n",
       "</table>\n",
       "<p>5 rows × 35 columns</p>\n",
       "</div>"
      ],
      "text/plain": [
       "          id     pesid data_inversa   dia_semana   horario  uf     br     km  \\\n",
       "9   331864.0  738673.0   2021-01-01  sexta-feira  17:10:00  SC  470.0   79,1   \n",
       "10  331864.0  738672.0   2021-01-01  sexta-feira  17:10:00  SC  470.0   79,1   \n",
       "15  331920.0  738637.0   2021-01-01  sexta-feira  20:40:00  PR  116.0     59   \n",
       "28  331990.0  739047.0   2021-01-02       sábado  09:41:00  MG  381.0  531,5   \n",
       "29  331990.0  738864.0   2021-01-02       sábado  09:41:00  MG  381.0  531,5   \n",
       "\n",
       "                municipio                 causa_acidente  ...       sexo  \\\n",
       "9                 INDAIAL         Transitar na contramão  ...   Feminino   \n",
       "10                INDAIAL         Transitar na contramão  ...  Masculino   \n",
       "15  CAMPINA GRANDE DO SUL  Entrada inopinada do pedestre  ...  Masculino   \n",
       "28             ITATIAIUCU              Condutor Dormindo  ...  Masculino   \n",
       "29             ITATIAIUCU              Condutor Dormindo  ...  Masculino   \n",
       "\n",
       "   ilesos feridos_leves feridos_graves mortos      latitude     longitude  \\\n",
       "9       0             1              0      0    -26,951565    -49,306534   \n",
       "10      0             1              0      0    -26,951565    -49,306534   \n",
       "15      1             0              0      0  -25,30335724  -48,94378885   \n",
       "28      0             1              0      0  -20,18182886  -44,37895835   \n",
       "29      0             0              0      1  -20,18182886  -44,37895835   \n",
       "\n",
       "   regional  delegacia             uop  \n",
       "9   SPRF-SC   DEL04-SC  UOP01-DEL04-SC  \n",
       "10  SPRF-SC   DEL04-SC  UOP01-DEL04-SC  \n",
       "15  SPRF-PR   DEL01-PR  UOP02-DEL01-PR  \n",
       "28  SPRF-MG   DEL04-MG  UOP03-DEL04-MG  \n",
       "29  SPRF-MG   DEL04-MG  UOP03-DEL04-MG  \n",
       "\n",
       "[5 rows x 35 columns]"
      ]
     },
     "execution_count": 29,
     "metadata": {},
     "output_type": "execute_result"
    }
   ],
   "source": [
    "acidentes_fatais.head()"
   ]
  },
  {
   "cell_type": "code",
   "execution_count": 30,
   "metadata": {},
   "outputs": [],
   "source": [
    "# definindo a coluna com a data como índice para posterior análise\n",
    "acidentes_fatais = acidentes_fatais.set_index('data_inversa')"
   ]
  },
  {
   "cell_type": "code",
   "execution_count": 31,
   "metadata": {},
   "outputs": [
    {
     "data": {
      "text/plain": [
       "pandas.core.indexes.base.Index"
      ]
     },
     "execution_count": 31,
     "metadata": {},
     "output_type": "execute_result"
    }
   ],
   "source": [
    "# verificando o tipo dos dados do índice\n",
    "type(acidentes_fatais.index)"
   ]
  },
  {
   "cell_type": "code",
   "execution_count": 32,
   "metadata": {},
   "outputs": [
    {
     "data": {
      "text/plain": [
       "pandas.core.indexes.datetimes.DatetimeIndex"
      ]
     },
     "execution_count": 32,
     "metadata": {},
     "output_type": "execute_result"
    }
   ],
   "source": [
    "# transformando o índice para o tipo datetime\n",
    "acidentes_fatais.index = pd.to_datetime(acidentes_fatais.index)\n",
    "type(acidentes_fatais.index)"
   ]
  },
  {
   "cell_type": "code",
   "execution_count": 33,
   "metadata": {},
   "outputs": [
    {
     "data": {
      "text/html": [
       "<div>\n",
       "<style scoped>\n",
       "    .dataframe tbody tr th:only-of-type {\n",
       "        vertical-align: middle;\n",
       "    }\n",
       "\n",
       "    .dataframe tbody tr th {\n",
       "        vertical-align: top;\n",
       "    }\n",
       "\n",
       "    .dataframe thead th {\n",
       "        text-align: right;\n",
       "    }\n",
       "</style>\n",
       "<table border=\"1\" class=\"dataframe\">\n",
       "  <thead>\n",
       "    <tr style=\"text-align: right;\">\n",
       "      <th></th>\n",
       "      <th>Mortes</th>\n",
       "    </tr>\n",
       "  </thead>\n",
       "  <tbody>\n",
       "    <tr>\n",
       "      <th>janeiro</th>\n",
       "      <td>407</td>\n",
       "    </tr>\n",
       "    <tr>\n",
       "      <th>fevereiro</th>\n",
       "      <td>298</td>\n",
       "    </tr>\n",
       "    <tr>\n",
       "      <th>março</th>\n",
       "      <td>339</td>\n",
       "    </tr>\n",
       "    <tr>\n",
       "      <th>abril</th>\n",
       "      <td>312</td>\n",
       "    </tr>\n",
       "    <tr>\n",
       "      <th>maio</th>\n",
       "      <td>369</td>\n",
       "    </tr>\n",
       "    <tr>\n",
       "      <th>junho</th>\n",
       "      <td>355</td>\n",
       "    </tr>\n",
       "    <tr>\n",
       "      <th>julho</th>\n",
       "      <td>442</td>\n",
       "    </tr>\n",
       "    <tr>\n",
       "      <th>agosto</th>\n",
       "      <td>377</td>\n",
       "    </tr>\n",
       "    <tr>\n",
       "      <th>setembro</th>\n",
       "      <td>397</td>\n",
       "    </tr>\n",
       "    <tr>\n",
       "      <th>outubro</th>\n",
       "      <td>414</td>\n",
       "    </tr>\n",
       "    <tr>\n",
       "      <th>novembro</th>\n",
       "      <td>344</td>\n",
       "    </tr>\n",
       "    <tr>\n",
       "      <th>dezembro</th>\n",
       "      <td>470</td>\n",
       "    </tr>\n",
       "  </tbody>\n",
       "</table>\n",
       "</div>"
      ],
      "text/plain": [
       "           Mortes\n",
       "janeiro       407\n",
       "fevereiro     298\n",
       "março         339\n",
       "abril         312\n",
       "maio          369\n",
       "junho         355\n",
       "julho         442\n",
       "agosto        377\n",
       "setembro      397\n",
       "outubro       414\n",
       "novembro      344\n",
       "dezembro      470"
      ]
     },
     "execution_count": 33,
     "metadata": {},
     "output_type": "execute_result"
    }
   ],
   "source": [
    "# agrupando os acidentes por mês\n",
    "# utilizamos o tipo datetime do índice para selecionar apenas os meses com .month\n",
    "mortes_mes = pd.DataFrame(data=acidentes_fatais.groupby(acidentes_fatais.index.month)['mortos'].sum().values,\n",
    "                columns=['Mortes'],\n",
    "                index=['janeiro','fevereiro', 'março', 'abril', 'maio', 'junho', 'julho', 'agosto', 'setembro', 'outubro', 'novembro', 'dezembro'])\n",
    "mortes_mes"
   ]
  },
  {
   "cell_type": "code",
   "execution_count": 34,
   "metadata": {},
   "outputs": [
    {
     "data": {
      "image/png": "[encoded data removed]",
      "text/plain": [
       "<Figure size 936x360 with 1 Axes>"
      ]
     },
     "metadata": {},
     "output_type": "display_data"
    }
   ],
   "source": [
    "fig = plt.figure(figsize=(13,5))\n",
    "plt.title('Mortes em cada mês',fontsize=21)\n",
    "sns.barplot(x=mortes_mes.index, y=mortes_mes.Mortes,color=\"black\") # gráfico de barras com o seaborn\n",
    "plt.ylabel('')\n",
    "plt.xlabel('');"
   ]
  },
  {
   "cell_type": "code",
   "execution_count": 35,
   "metadata": {},
   "outputs": [
    {
     "data": {
      "text/html": [
       "<div>\n",
       "<style scoped>\n",
       "    .dataframe tbody tr th:only-of-type {\n",
       "        vertical-align: middle;\n",
       "    }\n",
       "\n",
       "    .dataframe tbody tr th {\n",
       "        vertical-align: top;\n",
       "    }\n",
       "\n",
       "    .dataframe thead th {\n",
       "        text-align: right;\n",
       "    }\n",
       "</style>\n",
       "<table border=\"1\" class=\"dataframe\">\n",
       "  <thead>\n",
       "    <tr style=\"text-align: right;\">\n",
       "      <th></th>\n",
       "      <th>mortos</th>\n",
       "    </tr>\n",
       "    <tr>\n",
       "      <th>dia_semana</th>\n",
       "      <th></th>\n",
       "    </tr>\n",
       "  </thead>\n",
       "  <tbody>\n",
       "    <tr>\n",
       "      <th>domingo</th>\n",
       "      <td>898</td>\n",
       "    </tr>\n",
       "    <tr>\n",
       "      <th>quarta-feira</th>\n",
       "      <td>513</td>\n",
       "    </tr>\n",
       "    <tr>\n",
       "      <th>quinta-feira</th>\n",
       "      <td>522</td>\n",
       "    </tr>\n",
       "    <tr>\n",
       "      <th>segunda-feira</th>\n",
       "      <td>561</td>\n",
       "    </tr>\n",
       "    <tr>\n",
       "      <th>sexta-feira</th>\n",
       "      <td>677</td>\n",
       "    </tr>\n",
       "    <tr>\n",
       "      <th>sábado</th>\n",
       "      <td>861</td>\n",
       "    </tr>\n",
       "    <tr>\n",
       "      <th>terça-feira</th>\n",
       "      <td>492</td>\n",
       "    </tr>\n",
       "  </tbody>\n",
       "</table>\n",
       "</div>"
      ],
      "text/plain": [
       "               mortos\n",
       "dia_semana           \n",
       "domingo           898\n",
       "quarta-feira      513\n",
       "quinta-feira      522\n",
       "segunda-feira     561\n",
       "sexta-feira       677\n",
       "sábado            861\n",
       "terça-feira       492"
      ]
     },
     "execution_count": 35,
     "metadata": {},
     "output_type": "execute_result"
    }
   ],
   "source": [
    "# calculando as mortes por dia na semana\n",
    "mortes_dia = pd.DataFrame(acidentes_fatais.groupby('dia_semana')['mortos'].sum())\n",
    "mortes_dia"
   ]
  },
  {
   "cell_type": "code",
   "execution_count": 36,
   "metadata": {},
   "outputs": [
    {
     "data": {
      "image/png": "[encoded data removed]",
      "text/plain": [
       "<Figure size 936x360 with 1 Axes>"
      ]
     },
     "metadata": {},
     "output_type": "display_data"
    }
   ],
   "source": [
    "fig = plt.figure(figsize=(13,5))\n",
    "plt.title('Mortes por dia na semana',fontsize=21)\n",
    "sns.barplot(x=mortes_dia.index, y=mortes_dia.mortos,color=\"gray\",\n",
    "            order=['domingo','segunda-feira','terça-feira','quarta-feira','quinta-feira','sexta-feira','sábado'])\n",
    "plt.ylabel('')\n",
    "plt.xlabel('');"
   ]
  },
  {
   "cell_type": "code",
   "execution_count": 37,
   "metadata": {},
   "outputs": [
    {
     "data": {
      "text/html": [
       "<div>\n",
       "<style scoped>\n",
       "    .dataframe tbody tr th:only-of-type {\n",
       "        vertical-align: middle;\n",
       "    }\n",
       "\n",
       "    .dataframe tbody tr th {\n",
       "        vertical-align: top;\n",
       "    }\n",
       "\n",
       "    .dataframe thead th {\n",
       "        text-align: right;\n",
       "    }\n",
       "</style>\n",
       "<table border=\"1\" class=\"dataframe\">\n",
       "  <thead>\n",
       "    <tr style=\"text-align: right;\">\n",
       "      <th></th>\n",
       "      <th>fase_dia</th>\n",
       "    </tr>\n",
       "  </thead>\n",
       "  <tbody>\n",
       "    <tr>\n",
       "      <th>Plena Noite</th>\n",
       "      <td>5433</td>\n",
       "    </tr>\n",
       "    <tr>\n",
       "      <th>Pleno dia</th>\n",
       "      <td>5123</td>\n",
       "    </tr>\n",
       "    <tr>\n",
       "      <th>Amanhecer</th>\n",
       "      <td>779</td>\n",
       "    </tr>\n",
       "    <tr>\n",
       "      <th>Anoitecer</th>\n",
       "      <td>641</td>\n",
       "    </tr>\n",
       "  </tbody>\n",
       "</table>\n",
       "</div>"
      ],
      "text/plain": [
       "             fase_dia\n",
       "Plena Noite      5433\n",
       "Pleno dia        5123\n",
       "Amanhecer         779\n",
       "Anoitecer         641"
      ]
     },
     "execution_count": 37,
     "metadata": {},
     "output_type": "execute_result"
    }
   ],
   "source": [
    "# horário em que ocorrem a maior parte dos acidentes fatais\n",
    "fase_dia = pd.DataFrame(acidentes_fatais.fase_dia.value_counts())\n",
    "fase_dia"
   ]
  },
  {
   "cell_type": "code",
   "execution_count": 38,
   "metadata": {},
   "outputs": [
    {
     "data": {
      "image/png": "[encoded data removed]",
      "text/plain": [
       "<Figure size 576x396 with 1 Axes>"
      ]
     },
     "metadata": {},
     "output_type": "display_data"
    }
   ],
   "source": [
    "# A maior parte dos acidentes ocorrem à noite\n",
    "plt.style.use('seaborn')\n",
    "fase_dia.plot.bar(rot=0)\n",
    "plt.legend();"
   ]
  }
 ],
 "metadata": {
  "kernelspec": {
   "display_name": "Python 3",
   "language": "python",
   "name": "python3"
  },
  "language_info": {
   "codemirror_mode": {
    "name": "ipython",
    "version": 3
   },
   "file_extension": ".py",
   "mimetype": "text/x-python",
   "name": "python",
   "nbconvert_exporter": "python",
   "pygments_lexer": "ipython3",
   "version": "3.7.6"
  }
 },
 "nbformat": 4,
 "nbformat_minor": 4
}
